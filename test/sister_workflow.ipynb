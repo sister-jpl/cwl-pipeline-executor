{
 "cells": [
  {
   "cell_type": "code",
   "execution_count": 1,
   "metadata": {
    "collapsed": true,
    "pycharm": {
     "name": "#%%\n"
    }
   },
   "outputs": [],
   "source": [
    "import json\n",
    "import os\n",
    "import xml.etree.ElementTree as ET\n",
    "\n",
    "# Import warnings module and ignore warnings in output below\n",
    "import warnings\n",
    "warnings.filterwarnings(\"ignore\")\n",
    "\n",
    "# Import and initialize MAAP class\n",
    "from maap.maap import MAAP\n",
    "maap = MAAP(maap_host=\"sister-api.imgspec.org\")"
   ]
  },
  {
   "cell_type": "markdown",
   "source": [
    "Set up workflow config"
   ],
   "metadata": {
    "collapsed": false,
    "pycharm": {
     "name": "#%% md\n"
    }
   }
  },
  {
   "cell_type": "code",
   "execution_count": 6,
   "outputs": [],
   "source": [
    "input_config =  [\n",
    "    {\n",
    "      \"step_key\": \"l1_preprocess\",\n",
    "      \"algorithm_id\": \"sister-l1_preprocess_ubuntu\",\n",
    "      \"version\": \"master\",\n",
    "      \"queue\": \"sister-job_worker-32gb\",\n",
    "      \"params\": {\n",
    "        \"l1_granule\": \"https://sister-ops-workspace.s3.us-west-2.amazonaws.com/prisma/raw/PRS_L1_STD_OFFL_20200917091806_20200917091810_0001.zip\",\n",
    "        \"resolution\": 30,\n",
    "        \"landsat\": \"s3://sister-ops-workspace/prisma/landsat_reference/PRS_20200917091806_20200917091810_0001_landsat.tar.gz\",\n",
    "        \"publish_to_cmr\": False,\n",
    "        \"cmr_metadata\": {},\n",
    "        \"identifier\": \"cwl-workflow-test-l1_preprocess\"\n",
    "      }\n",
    "    },\n",
    "    {\n",
    "      \"step_key\": \"l2_reflectance\",\n",
    "      \"algorithm_id\": \"isofit_ubuntu\",\n",
    "      \"queue\": \"sister-job_worker-32gb\",\n",
    "      \"version\": \"cwl-dev\",\n",
    "      \"input_filter\": {\n",
    "        \"l1_granule\": \"*.tar.gz\"\n",
    "      },\n",
    "      \"params\": {\n",
    "        \"cmr_metadata\": {},\n",
    "        \"l1_granule\": None,\n",
    "        \"n_cores\": 32,\n",
    "        \"publish_to_cmr\": False,\n",
    "        \"radiance_factors_file\": \"https://raw.githubusercontent.com/EnSpec/sister/master/data/prisma/radiance_factors/PRISMA_20200721104249_20200721104253_0001_radiance_factors.txt\",\n",
    "        \"segmentation_size\": 50,\n",
    "        \"snow_and_liquids_reflectance_spectra\": \"https://ecosis.org/api/package/emit-manually-adjusted-snow-and-liquids-reflectance-spectra/export\",\n",
    "        \"surface_reflectance_spectra\": \"https://ecosis.org/api/package/emit-manually-adjusted-surface-reflectance-spectra/export\",\n",
    "        \"vegetation_reflectance_spectra\": \"https://ecosis.org/api/package/emit-manually-adjusted-vegetation-reflectance-spectra/export\",\n",
    "        \"water_reflectance_spectra\": \"https://ecosis.org/api/package/emit-manually-adjusted-water-reflectance-spectra/export\"\n",
    "      },\n",
    "      \"identifier\": \"cwl-workflow-test-l2_reflectance\"\n",
    "    },\n",
    "    {\n",
    "      \"step_key\": \"l2_resample\",\n",
    "      \"algorithm_id\": \"sister-resample_ubuntu\",\n",
    "      \"version\": \"sister-dev\",\n",
    "      \"queue\": \"sister-job_worker-32gb\",\n",
    "      \"input_filter\": {\n",
    "        \"l2_granule\": \"*rfl*.tar.gz\"\n",
    "      },\n",
    "      \"params\": {\n",
    "        \"l2_granule\": None,\n",
    "        \"publish_to_cmr\": False,\n",
    "        \"cmr_metadata\": {},\n",
    "        \"identifier\": \"cwl-workflow-test-l2_resample\"\n",
    "      }\n",
    "    },\n",
    "    {\n",
    "      \"step_key\": \"l2_reflectance_correction\",\n",
    "      \"algorithm_id\": \"sister-reflect_correct_ubuntu\",\n",
    "      \"version\": \"main\",\n",
    "      \"queue\": \"sister-job_worker-32gb\",\n",
    "      \"input_filter\": {\n",
    "        \"l1_granule\": \"*l1p.tar.gz\",\n",
    "        \"l2_granule\": \"*rfl.tar.gz\"\n",
    "      },\n",
    "      \"params\": {\n",
    "        \"l1_granule\": None,\n",
    "        \"l2_granule\": None,\n",
    "        \"publish_to_cmr\": False,\n",
    "        \"cmr_metadata\": {},\n",
    "        \"identifier\": \"cwl-workflow-test-l2_reflectance_correction\"\n",
    "      }\n",
    "    }\n",
    "  ]\n"
   ],
   "metadata": {
    "collapsed": false,
    "pycharm": {
     "name": "#%%\n"
    }
   }
  },
  {
   "cell_type": "markdown",
   "source": [
    "Submit the workflow job"
   ],
   "metadata": {
    "collapsed": false,
    "pycharm": {
     "name": "#%% md\n"
    }
   }
  },
  {
   "cell_type": "code",
   "execution_count": 7,
   "outputs": [
    {
     "data": {
      "text/plain": "({'job_id': '045f1743-2a5d-499a-a8a4-d3f958c0c127', 'status': 'success', 'machine_type': None, 'architecture': None, 'machine_memory_size': None, 'directory_size': None, 'operating_system': None, 'job_start_time': None, 'job_end_time': None, 'job_duration_seconds': None, 'cpu_usage': None, 'cache_usage': None, 'mem_usage': None, 'max_mem_usage': None, 'swap_usage': None, 'read_io_stats': None, 'write_io_stats': None, 'sync_io_stats': None, 'async_io_stats': None, 'total_io_stats': None, 'error_details': None, 'response_code': 200, 'outputs': []},)"
     },
     "execution_count": 7,
     "metadata": {},
     "output_type": "execute_result"
    }
   ],
   "source": [
    "job = maap.submitJob(\n",
    "    algo_id=\"run_sister_workflow_ubuntu\",\n",
    "    version=\"dev\",\n",
    "    queue=\"sister-job_worker-8gb\",\n",
    "    identifier=\"sister-cwl-workflow-test\",\n",
    "    username=\"anonymous\",\n",
    "    workflow_config=json.dumps(input_config)\n",
    "),\n",
    "job\n"
   ],
   "metadata": {
    "collapsed": false,
    "pycharm": {
     "name": "#%%\n"
    }
   }
  },
  {
   "cell_type": "code",
   "execution_count": null,
   "outputs": [],
   "source": [],
   "metadata": {
    "collapsed": false,
    "pycharm": {
     "name": "#%%\n"
    }
   }
  }
 ],
 "metadata": {
  "kernelspec": {
   "display_name": "Python 3",
   "language": "python",
   "name": "python3"
  },
  "language_info": {
   "codemirror_mode": {
    "name": "ipython",
    "version": 2
   },
   "file_extension": ".py",
   "mimetype": "text/x-python",
   "name": "python",
   "nbconvert_exporter": "python",
   "pygments_lexer": "ipython2",
   "version": "2.7.6"
  }
 },
 "nbformat": 4,
 "nbformat_minor": 0
}