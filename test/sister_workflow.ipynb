{
 "cells": [
  {
   "cell_type": "code",
   "execution_count": 1,
   "metadata": {
    "collapsed": true,
    "pycharm": {
     "name": "#%%\n"
    }
   },
   "outputs": [
    {
     "name": "stdout",
     "output_type": "stream",
     "text": [
      "Using <_io.TextIOWrapper name='./maap.cfg' mode='r' encoding='UTF-8'> as maap config file\n"
     ]
    }
   ],
   "source": [
    "import json\n",
    "import os\n",
    "import xml.etree.ElementTree as ET\n",
    "\n",
    "# Import warnings module and ignore warnings in output below\n",
    "import warnings\n",
    "warnings.filterwarnings(\"ignore\")\n",
    "\n",
    "# Import and initialize MAAP class\n",
    "from maap.maap import MAAP\n",
    "maap = MAAP(maap_host=\"sister-api.imgspec.org\")"
   ]
  },
  {
   "cell_type": "markdown",
   "source": [
    "Set up workflow config"
   ],
   "metadata": {
    "collapsed": false,
    "pycharm": {
     "name": "#%% md\n"
    }
   }
  },
  {
   "cell_type": "code",
   "execution_count": 7,
   "outputs": [],
   "source": [
    "input_config =  [\n",
    "      {\n",
    "        \"step_key\": \"l1_preprocess\",\n",
    "        \"algorithm_id\": \"sister-preprocess\",\n",
    "        \"version\": \"sister-dev\",\n",
    "        \"queue\": \"sister-job_worker-16gb\",\n",
    "        \"params\": {\n",
    "          \"raw_dataset\": \"https://data.lpdaac.earthdatacloud.nasa.gov/lp-prod-protected/EMITL1BRAD.001/EMIT_L1B_RAD_001_20220810T174213_2222212_001/EMIT_L1B_RAD_001_20220810T174213_2222212_001.nc\",\n",
    "          \"crid\": 999,\n",
    "          \"identifier\": \"SISTER_EMIT_L1B_RDN_20220810T174213_999\",\n",
    "          \"username\": \"anonymous\"\n",
    "        }\n",
    "      },\n",
    "      {\n",
    "        \"step_key\": \"l2_reflectance\",\n",
    "        \"algorithm_id\": \"sister-isofit\",\n",
    "        \"queue\": \"sister-job_worker-32gb\",\n",
    "        \"version\": \"sister-dev\",\n",
    "        \"input_filter\": {\n",
    "          \"radiance_dataset\": \"*RDN*999\",\n",
    "          \"location_dataset\": \"*RDN*LOC\",\n",
    "          \"observation_dataset\": \"*RDN*OBS\"\n",
    "        },\n",
    "        \"params\": {\n",
    "          \"radiance_dataset\": None,\n",
    "          \"location_dataset\": None,\n",
    "          \"observation_dataset\": None,\n",
    "          \"n_cores\": 32,\n",
    "          \"segmentation_size\": 50,\n",
    "          \"crid\": 999,\n",
    "          \"identifier\": \"SISTER_EMIT_L2A_RFL_20220810T174213_999\",\n",
    "          \"username\": \"anonymous\"\n",
    "        }\n",
    "      },\n",
    "      {\n",
    "        \"step_key\": \"l2_resample\",\n",
    "        \"algorithm_id\": \"sister-resample\",\n",
    "        \"version\": \"2.0.0\",\n",
    "        \"queue\": \"sister-job_worker-16gb\",\n",
    "        \"input_filter\": {\n",
    "          \"reflectance_dataset\": \"*_RFL_*999\",\n",
    "          \"uncertainty_dataset\": \"*_RFL*UNC\"\n",
    "        },\n",
    "        \"params\": {\n",
    "          \"reflectance_dataset\": None,\n",
    "          \"uncertainty_dataset\": None,\n",
    "          \"crid\": 999,\n",
    "          \"identifier\": \"SISTER_EMIT_L2A_RSRFL_20220810T174213_999\",\n",
    "          \"username\": \"anonymous\"\n",
    "        }\n",
    "      },\n",
    "      {\n",
    "        \"step_key\": \"l2_reflectance_correction\",\n",
    "        \"algorithm_id\": \"sister-reflect_correct\",\n",
    "        \"version\": \"sister-dev\",\n",
    "        \"queue\": \"sister-job_worker-16gb\",\n",
    "        \"input_filter\": {\n",
    "          \"observation_dataset\": \"*RDN*OBS\",\n",
    "          \"reflectance_dataset\": \"*RSRFL*999\"\n",
    "        },\n",
    "        \"params\": {\n",
    "          \"observation_dataset\": None,\n",
    "          \"reflectance_dataset\": None,\n",
    "          \"crid\": 999,\n",
    "          \"identifier\": \"SISTER_EMIT_L2A_CORFL_20220810T174213_999\",\n",
    "          \"username\": \"anonymous\"\n",
    "        }\n",
    "      },\n",
    "      {\n",
    "        \"step_key\": \"l2_factional_cover\",\n",
    "        \"algorithm_id\": \"sister-fractional-cover\",\n",
    "        \"version\": \"1.0.0\",\n",
    "        \"queue\": \"sister-job_worker-16gb\",\n",
    "        \"input_filter\": {\n",
    "          \"reflectance_dataset\": \"*CORFL*\"\n",
    "        },\n",
    "        \"params\": {\n",
    "          \"reflectance_dataset\": None,\n",
    "          \"n_cores\": 10,\n",
    "          \"refl_scale\": 1,\n",
    "          \"crid\": 999,\n",
    "          \"identifier\": \"SISTER_EMIT_L2B_FRCOVER_20220810T174213_999\",\n",
    "          \"username\": \"anonymous\"\n",
    "        }\n",
    "      },\n",
    "      {\n",
    "        \"step_key\": \"l2_vegbiochem\",\n",
    "        \"algorithm_id\": \"sister-trait_estimate\",\n",
    "        \"version\": \"1.0.0\",\n",
    "        \"queue\": \"sister-job_worker-16gb\",\n",
    "        \"input_filter\": {\n",
    "          \"reflectance_dataset\": \"*CORFL*\",\n",
    "          \"frcov_dataset\": \"*L2B_FRCOV*\"\n",
    "        },\n",
    "        \"params\": {\n",
    "          \"reflectance_dataset\": None,\n",
    "          \"frcov_dataset\": None,\n",
    "          \"veg_cover\": 0.5,\n",
    "          \"crid\": 999,\n",
    "          \"identifier\": \"SISTER_EMIT_L2B_VEGBIOCHEM_20220810T174213_999\",\n",
    "          \"username\": \"anonymous\"\n",
    "        }\n",
    "      },\n",
    "      {\n",
    "        \"step_key\": \"l2_grainsize\",\n",
    "        \"algorithm_id\": \"sister-grainsize\",\n",
    "        \"version\": \"1.0.0\",\n",
    "        \"queue\": \"sister-job_worker-16gb\",\n",
    "        \"input_filter\": {\n",
    "          \"reflectance_dataset\": \"*CORFL*\",\n",
    "          \"frcov_dataset\": \"*L2B_FRCOV*\"\n",
    "        },\n",
    "        \"params\": {\n",
    "          \"reflectance_dataset\": None,\n",
    "          \"frcov_dataset\": None,\n",
    "          \"snow_cover\": 0.9,\n",
    "          \"crid\": 999,\n",
    "          \"identifier\": \"SISTER_EMIT_L2B_GRAINSIZE_20220810T174213_999\",\n",
    "          \"username\": \"anonymous\"\n",
    "        }\n",
    "      },\n",
    "      {\n",
    "        \"step_key\": \"l2_aquatic_pigments\",\n",
    "        \"algorithm_id\": \"sister-aquatic-pigments-pge\",\n",
    "        \"version\": \"sister-dev\",\n",
    "        \"queue\": \"sister-job_worker-16gb\",\n",
    "        \"input_filter\": {\n",
    "          \"corrected_reflectance_dataset\": \"*CORFL*\",\n",
    "          \"fractional_cover_dataset\": \"*L2B_FRCOV*\"\n",
    "        },\n",
    "        \"params\": {\n",
    "          \"corrected_reflectance_dataset\": None,\n",
    "          \"fractional_cover_dataset\": None,\n",
    "          \"crid\": 999,\n",
    "          \"identifier\": \"SISTER_EMIT_L2B_AQUAPIG_20220810T174213_999\",\n",
    "          \"username\": \"anonymous\"\n",
    "        }\n",
    "      },\n",
    "      {\n",
    "        \"step_key\": \"l2_benthic_inversion\",\n",
    "        \"algorithm_id\": \"sister-benthic-inversion-pge\",\n",
    "        \"version\": \"sister-dev\",\n",
    "        \"queue\": \"sister-job_worker-16gb\",\n",
    "        \"input_filter\": {\n",
    "          \"corrected_reflectance_dataset\": \"*CORFL*\",\n",
    "          \"fractional_cover_dataset\": \"*L2B_FRCOV*\"\n",
    "        },\n",
    "        \"params\": {\n",
    "          \"corrected_reflectance_dataset\": None,\n",
    "          \"fractional_cover_dataset\": None,\n",
    "          \"crid\": 999,\n",
    "          \"identifier\": \"SISTER_EMIT_L2B_BENTHRFL_20220810T174213_999\",\n",
    "          \"username\": \"anonymous\"\n",
    "        }\n",
    "      },\n",
    "      {\n",
    "        \"step_key\": \"l2_benthic_cover\",\n",
    "        \"algorithm_id\": \"sister-benthic-cover-pge\",\n",
    "        \"version\": \"sister-dev\",\n",
    "        \"queue\": \"sister-job_worker-16gb\",\n",
    "        \"input_filter\": {\n",
    "          \"benthic_reflectance_dataset\": \"*BENTHRFL*\",\n",
    "          \"fractional_cover_dataset\": \"*L2B_FRCOV*\",\n",
    "          \"depth_dataset\": \"*DEPTH\"\n",
    "        },\n",
    "        \"params\": {\n",
    "          \"benthic_reflectance_dataset\": None,\n",
    "          \"fractional_cover_dataset\": None,\n",
    "          \"depth_dataset\": None,\n",
    "          \"crid\": 999,\n",
    "          \"identifier\": \"SISTER_EMIT_L2B_BENTHCOVER_20220810T174213_999\",\n",
    "          \"username\": \"anonymous\"\n",
    "        }\n",
    "      },\n",
    "      {\n",
    "        \"step_key\": \"sister_router\",\n",
    "        \"snow_cover\": 0.5,\n",
    "        \"veg_cover\": 0.5,\n",
    "        \"min_pixels\": 100,\n",
    "        \"soil_cover\": 0.5,\n",
    "        \"water_cover\": 0.5\n",
    "      }\n",
    "    ]\n"
   ],
   "metadata": {
    "collapsed": false,
    "pycharm": {
     "name": "#%%\n"
    }
   }
  },
  {
   "cell_type": "markdown",
   "source": [
    "Submit the workflow job"
   ],
   "metadata": {
    "collapsed": false,
    "pycharm": {
     "name": "#%% md\n"
    }
   }
  },
  {
   "cell_type": "code",
   "execution_count": 11,
   "outputs": [
    {
     "data": {
      "text/plain": "({'job_id': '95b448ff-0629-4dd3-8bb6-e57f30b0b66b', 'status': 'success', 'machine_type': None, 'architecture': None, 'machine_memory_size': None, 'directory_size': None, 'operating_system': None, 'job_start_time': None, 'job_end_time': None, 'job_duration_seconds': None, 'cpu_usage': None, 'cache_usage': None, 'mem_usage': None, 'max_mem_usage': None, 'swap_usage': None, 'read_io_stats': None, 'write_io_stats': None, 'sync_io_stats': None, 'async_io_stats': None, 'total_io_stats': None, 'error_details': None, 'response_code': 200, 'outputs': []},)"
     },
     "execution_count": 11,
     "metadata": {},
     "output_type": "execute_result"
    }
   ],
   "source": [
    "job = maap.submitJob(\n",
    "    algo_id=\"run_sister_workflow\",\n",
    "    version=\"dev\",\n",
    "    queue=\"sister-job_worker-8gb\",\n",
    "    identifier=\"sister-cwl-workflow-test\",\n",
    "    username=\"anonymous\",\n",
    "    workflow_config=json.dumps(input_config),\n",
    "    precondition_file=\"sister_router.py\"\n",
    "),\n",
    "job\n"
   ],
   "metadata": {
    "collapsed": false,
    "pycharm": {
     "name": "#%%\n"
    }
   }
  },
  {
   "cell_type": "code",
   "execution_count": null,
   "outputs": [],
   "source": [
    "\n"
   ],
   "metadata": {
    "collapsed": false,
    "pycharm": {
     "name": "#%%\n"
    }
   }
  }
 ],
 "metadata": {
  "kernelspec": {
   "display_name": "Python 3",
   "language": "python",
   "name": "python3"
  },
  "language_info": {
   "codemirror_mode": {
    "name": "ipython",
    "version": 2
   },
   "file_extension": ".py",
   "mimetype": "text/x-python",
   "name": "python",
   "nbconvert_exporter": "python",
   "pygments_lexer": "ipython2",
   "version": "2.7.6"
  }
 },
 "nbformat": 4,
 "nbformat_minor": 0
}